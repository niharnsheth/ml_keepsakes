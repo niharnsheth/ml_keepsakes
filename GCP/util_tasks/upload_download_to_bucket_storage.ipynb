{
 "cells": [
  {
   "cell_type": "markdown",
   "id": "67a6fd09",
   "metadata": {},
   "source": [
    "### Uploading and Downloading from GCP Bucket Storage\n",
    "##### \n",
    "##### This notebook is a walkthrough to upload or download files from a Google Cloud Platform Bucket storage from your desktop "
   ]
  },
  {
   "cell_type": "markdown",
   "id": "ca9ae68e",
   "metadata": {},
   "source": [
    "The following is requirements must be satisfied:\n",
    "1. Have an active google cloud project.\n",
    "2. Have a bucket in the bucket storage."
   ]
  },
  {
   "cell_type": "markdown",
   "id": "06ede227",
   "metadata": {},
   "source": [
    "#### The step by step process is given below\n",
    "1. DOwnload and install the gcloud CLI from this link: https://dl.google.com/dl/cloudsdk/channels/rapid/GoogleCloudSDKInstaller.exe\n",
    "2. Open Windows Command Line and do the following:\n",
    "a. Check if gcloud CLI installed correctly\n",
    "b. Authorized log in to your project\n",
    "c. Connect to project\n",
    "d. "
   ]
  },
  {
   "cell_type": "code",
   "execution_count": null,
   "id": "38c53cdf",
   "metadata": {},
   "outputs": [],
   "source": []
  }
 ],
 "metadata": {
  "kernelspec": {
   "display_name": "Python env_WH_01",
   "language": "python",
   "name": "env_wh_01"
  },
  "language_info": {
   "codemirror_mode": {
    "name": "ipython",
    "version": 3
   },
   "file_extension": ".py",
   "mimetype": "text/x-python",
   "name": "python",
   "nbconvert_exporter": "python",
   "pygments_lexer": "ipython3",
   "version": "3.7.5"
  }
 },
 "nbformat": 4,
 "nbformat_minor": 5
}
